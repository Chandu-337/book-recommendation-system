{
 "cells": [
  {
   "cell_type": "code",
   "execution_count": null,
   "id": "a6765ca2",
   "metadata": {},
   "outputs": [],
   "source": [
    "# Step 1 : Import Required Libraries\n",
    "import pandas as pd   # Used to load and manipulate data\n",
    "from sklearn.feature_extraction.text import TfidfVectorizer   # Converts text to numerical features\n",
    "from sklearn.metrics.pairwise import cosine_similarity  # Computes similarity between vectors   "
   ]
  },
  {
   "cell_type": "code",
   "execution_count": null,
   "id": "8656a4ed",
   "metadata": {},
   "outputs": [
    {
     "data": {
      "text/html": [
       "<div>\n",
       "<style scoped>\n",
       "    .dataframe tbody tr th:only-of-type {\n",
       "        vertical-align: middle;\n",
       "    }\n",
       "\n",
       "    .dataframe tbody tr th {\n",
       "        vertical-align: top;\n",
       "    }\n",
       "\n",
       "    .dataframe thead th {\n",
       "        text-align: right;\n",
       "    }\n",
       "</style>\n",
       "<table border=\"1\" class=\"dataframe\">\n",
       "  <thead>\n",
       "    <tr style=\"text-align: right;\">\n",
       "      <th></th>\n",
       "      <th>title</th>\n",
       "      <th>authors</th>\n",
       "      <th>average_rating</th>\n",
       "    </tr>\n",
       "  </thead>\n",
       "  <tbody>\n",
       "    <tr>\n",
       "      <th>0</th>\n",
       "      <td>Harry Potter and the Half-Blood Prince (Harry ...</td>\n",
       "      <td>J.K. Rowling/Mary GrandPré</td>\n",
       "      <td>4.57</td>\n",
       "    </tr>\n",
       "    <tr>\n",
       "      <th>1</th>\n",
       "      <td>Harry Potter and the Order of the Phoenix (Har...</td>\n",
       "      <td>J.K. Rowling/Mary GrandPré</td>\n",
       "      <td>4.49</td>\n",
       "    </tr>\n",
       "    <tr>\n",
       "      <th>2</th>\n",
       "      <td>Harry Potter and the Chamber of Secrets (Harry...</td>\n",
       "      <td>J.K. Rowling</td>\n",
       "      <td>4.42</td>\n",
       "    </tr>\n",
       "    <tr>\n",
       "      <th>3</th>\n",
       "      <td>Harry Potter and the Prisoner of Azkaban (Harr...</td>\n",
       "      <td>J.K. Rowling/Mary GrandPré</td>\n",
       "      <td>4.56</td>\n",
       "    </tr>\n",
       "    <tr>\n",
       "      <th>4</th>\n",
       "      <td>Harry Potter Boxed Set  Books 1-5 (Harry Potte...</td>\n",
       "      <td>J.K. Rowling/Mary GrandPré</td>\n",
       "      <td>4.78</td>\n",
       "    </tr>\n",
       "  </tbody>\n",
       "</table>\n",
       "</div>"
      ],
      "text/plain": [
       "                                               title  \\\n",
       "0  Harry Potter and the Half-Blood Prince (Harry ...   \n",
       "1  Harry Potter and the Order of the Phoenix (Har...   \n",
       "2  Harry Potter and the Chamber of Secrets (Harry...   \n",
       "3  Harry Potter and the Prisoner of Azkaban (Harr...   \n",
       "4  Harry Potter Boxed Set  Books 1-5 (Harry Potte...   \n",
       "\n",
       "                      authors  average_rating  \n",
       "0  J.K. Rowling/Mary GrandPré            4.57  \n",
       "1  J.K. Rowling/Mary GrandPré            4.49  \n",
       "2                J.K. Rowling            4.42  \n",
       "3  J.K. Rowling/Mary GrandPré            4.56  \n",
       "4  J.K. Rowling/Mary GrandPré            4.78  "
      ]
     },
     "execution_count": 6,
     "metadata": {},
     "output_type": "execute_result"
    }
   ],
   "source": [
    "# Step 2 :Load the dataset\n",
    "books = pd.read_csv('books.csv')  \n",
    "books = books[['title', 'authors', 'average_rating']]   # Use only relevant columns\n",
    "books.drop_duplicates(subset='title', inplace=True)     # Remove duplicates based on title\n",
    "books.reset_index(drop=True, inplace=True)              # Reset index after dropping duplicates\n",
    "books.head()   # Display the first few rows of the dataset"
   ]
  },
  {
   "cell_type": "code",
   "execution_count": null,
   "id": "e2de65c1",
   "metadata": {},
   "outputs": [],
   "source": [
    "#  Step 3: Data Preprocessing\n",
    "# Combine 'title' and 'authors' to create a single text feature and convert to lowercase\n",
    "books['combined'] = (books['title'] + ' ' + books['authors']).str.lower()"
   ]
  },
  {
   "cell_type": "code",
   "execution_count": null,
   "id": "01d0a430",
   "metadata": {},
   "outputs": [],
   "source": [
    "# Step 4: Vectorize the Text using TF-IDF\n",
    "# TF-IDF (Term Frequency–Inverse Document Frequency) helps to convert text to numerical form\n",
    "vectorizer = TfidfVectorizer(stop_words='english')\n",
    "tfidf_matrix = vectorizer.fit_transform(books['combined'])"
   ]
  },
  {
   "cell_type": "code",
   "execution_count": null,
   "id": "7b4831ca",
   "metadata": {},
   "outputs": [],
   "source": [
    "# Step 5: Compute Cosine Similarity\n",
    "# This measures how similar each book is to every other book based on the TF-IDF matrix\n",
    "cosine_sim = cosine_similarity(tfidf_matrix, tfidf_matrix)"
   ]
  },
  {
   "cell_type": "code",
   "execution_count": null,
   "id": "2083d421",
   "metadata": {},
   "outputs": [],
   "source": [
    "#  Step 6: Define the Book Recommendation Function\n",
    "def recommend_books(title, cosine_sim=cosine_sim):\n",
    "    title = title.lower()\n",
    "    if title not in books['title'].str.lower().values:\n",
    "        return \"Book not found in dataset.\"\n",
    "    \n",
    "    idx = books[books['title'].str.lower() == title].index[0]\n",
    "    sim_scores = list(enumerate(cosine_sim[idx]))\n",
    "    sim_scores = sorted(sim_scores, key=lambda x: x[1], reverse=True)[1:6]  # top 5\n",
    "    book_indices = [i[0] for i in sim_scores]\n",
    "    \n",
    "    return books[['title', 'authors', 'average_rating']].iloc[book_indices]\n"
   ]
  },
  {
   "cell_type": "code",
   "execution_count": 15,
   "id": "723f44cd",
   "metadata": {},
   "outputs": [
    {
     "data": {
      "text/html": [
       "<div>\n",
       "<style scoped>\n",
       "    .dataframe tbody tr th:only-of-type {\n",
       "        vertical-align: middle;\n",
       "    }\n",
       "\n",
       "    .dataframe tbody tr th {\n",
       "        vertical-align: top;\n",
       "    }\n",
       "\n",
       "    .dataframe thead th {\n",
       "        text-align: right;\n",
       "    }\n",
       "</style>\n",
       "<table border=\"1\" class=\"dataframe\">\n",
       "  <thead>\n",
       "    <tr style=\"text-align: right;\">\n",
       "      <th></th>\n",
       "      <th>title</th>\n",
       "      <th>authors</th>\n",
       "      <th>average_rating</th>\n",
       "    </tr>\n",
       "  </thead>\n",
       "  <tbody>\n",
       "    <tr>\n",
       "      <th>1233</th>\n",
       "      <td>Cliffs Notes on Fitzgerald's the Great Gatsby</td>\n",
       "      <td>Kate Maurer/F. Scott Fitzgerald/CliffsNotes</td>\n",
       "      <td>3.70</td>\n",
       "    </tr>\n",
       "    <tr>\n",
       "      <th>3088</th>\n",
       "      <td>All the Sad Young Men (Works of F. Scott Fitzg...</td>\n",
       "      <td>F. Scott Fitzgerald/James L.W. West III</td>\n",
       "      <td>3.96</td>\n",
       "    </tr>\n",
       "    <tr>\n",
       "      <th>1230</th>\n",
       "      <td>The St. Paul Stories of F. Scott Fitzgerald</td>\n",
       "      <td>F. Scott Fitzgerald/Dave Page/Patricia Hampl</td>\n",
       "      <td>4.00</td>\n",
       "    </tr>\n",
       "    <tr>\n",
       "      <th>4344</th>\n",
       "      <td>The Love of the Last Tycoon</td>\n",
       "      <td>F. Scott Fitzgerald</td>\n",
       "      <td>3.65</td>\n",
       "    </tr>\n",
       "    <tr>\n",
       "      <th>1228</th>\n",
       "      <td>A Life in Letters</td>\n",
       "      <td>F. Scott Fitzgerald/Matthew J. Bruccoli</td>\n",
       "      <td>4.22</td>\n",
       "    </tr>\n",
       "  </tbody>\n",
       "</table>\n",
       "</div>"
      ],
      "text/plain": [
       "                                                  title  \\\n",
       "1233      Cliffs Notes on Fitzgerald's the Great Gatsby   \n",
       "3088  All the Sad Young Men (Works of F. Scott Fitzg...   \n",
       "1230        The St. Paul Stories of F. Scott Fitzgerald   \n",
       "4344                        The Love of the Last Tycoon   \n",
       "1228                                  A Life in Letters   \n",
       "\n",
       "                                           authors  average_rating  \n",
       "1233   Kate Maurer/F. Scott Fitzgerald/CliffsNotes            3.70  \n",
       "3088       F. Scott Fitzgerald/James L.W. West III            3.96  \n",
       "1230  F. Scott Fitzgerald/Dave Page/Patricia Hampl            4.00  \n",
       "4344                           F. Scott Fitzgerald            3.65  \n",
       "1228       F. Scott Fitzgerald/Matthew J. Bruccoli            4.22  "
      ]
     },
     "execution_count": 15,
     "metadata": {},
     "output_type": "execute_result"
    }
   ],
   "source": [
    "# Step 7: Test the Recommendation Function\n",
    "recommend_books(\"The Great Gatsby\")  # Replace with any book title from the dataset"
   ]
  }
 ],
 "metadata": {
  "kernelspec": {
   "display_name": "Python 3",
   "language": "python",
   "name": "python3"
  },
  "language_info": {
   "codemirror_mode": {
    "name": "ipython",
    "version": 3
   },
   "file_extension": ".py",
   "mimetype": "text/x-python",
   "name": "python",
   "nbconvert_exporter": "python",
   "pygments_lexer": "ipython3",
   "version": "3.11.9"
  }
 },
 "nbformat": 4,
 "nbformat_minor": 5
}
